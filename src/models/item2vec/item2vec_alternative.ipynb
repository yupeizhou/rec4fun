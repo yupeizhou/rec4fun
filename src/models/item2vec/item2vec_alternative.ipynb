{
 "cells": [
  {
   "cell_type": "code",
   "execution_count": 1,
   "metadata": {},
   "outputs": [],
   "source": [
    "import numpy as np\n",
    "import pandas as pd\n",
    "from gensim.models import Word2Vec\n",
    "import polars as pl\n",
    "import faiss\n",
    "from tqdm.notebook import tqdm"
   ]
  },
  {
   "cell_type": "markdown",
   "metadata": {},
   "source": [
    "### Data"
   ]
  },
  {
   "cell_type": "code",
   "execution_count": 2,
   "metadata": {},
   "outputs": [],
   "source": [
    "# https://www.kaggle.com/datasets/radek1/otto-full-optimized-memory-footprint\n",
    "train = pl.read_parquet('../../../data/train.parquet')\n",
    "test = pl.read_parquet('../../../data/test.parquet')"
   ]
  },
  {
   "cell_type": "markdown",
   "metadata": {},
   "source": [
    "### Training Sequence"
   ]
  },
  {
   "cell_type": "code",
   "execution_count": 3,
   "metadata": {},
   "outputs": [],
   "source": [
    "aid_seq = train.sort(by = ['session', 'ts'])\n",
    "sentences_df = aid_seq.groupby('session').agg(pl.col('aid').alias('sentence'))"
   ]
  },
  {
   "cell_type": "code",
   "execution_count": 4,
   "metadata": {},
   "outputs": [
    {
     "data": {
      "text/html": [
       "<div>\n",
       "<style scoped>\n",
       "    .dataframe tbody tr th:only-of-type {\n",
       "        vertical-align: middle;\n",
       "    }\n",
       "\n",
       "    .dataframe tbody tr th {\n",
       "        vertical-align: top;\n",
       "    }\n",
       "\n",
       "    .dataframe thead th {\n",
       "        text-align: right;\n",
       "    }\n",
       "\n",
       "    .dataframe td {\n",
       "        white-space: pre;\n",
       "    }\n",
       "\n",
       "    .dataframe td {\n",
       "        padding-top: 0;\n",
       "    }\n",
       "\n",
       "    .dataframe td {\n",
       "        padding-bottom: 0;\n",
       "    }\n",
       "</style>\n",
       "<table border=\"1\" class=\"dataframe\">\n",
       "<small>shape: (5, 2)</small>\n",
       "<thead>\n",
       "<tr>\n",
       "<th>\n",
       "session\n",
       "</th>\n",
       "<th>\n",
       "sentence\n",
       "</th>\n",
       "</tr>\n",
       "<tr>\n",
       "<td>\n",
       "i32\n",
       "</td>\n",
       "<td>\n",
       "list[i32]\n",
       "</td>\n",
       "</tr>\n",
       "</thead>\n",
       "<tbody>\n",
       "<tr>\n",
       "<td>\n",
       "0\n",
       "</td>\n",
       "<td>\n",
       "[1517085, 1563459, ... 161938]\n",
       "</td>\n",
       "</tr>\n",
       "<tr>\n",
       "<td>\n",
       "1\n",
       "</td>\n",
       "<td>\n",
       "[424964, 1492293, ... 497868]\n",
       "</td>\n",
       "</tr>\n",
       "<tr>\n",
       "<td>\n",
       "2\n",
       "</td>\n",
       "<td>\n",
       "[763743, 137492, ... 672473]\n",
       "</td>\n",
       "</tr>\n",
       "<tr>\n",
       "<td>\n",
       "3\n",
       "</td>\n",
       "<td>\n",
       "[1425967, 1425967, ... 925352]\n",
       "</td>\n",
       "</tr>\n",
       "<tr>\n",
       "<td>\n",
       "4\n",
       "</td>\n",
       "<td>\n",
       "[613619, 298827, ... 479396]\n",
       "</td>\n",
       "</tr>\n",
       "</tbody>\n",
       "</table>\n",
       "</div>"
      ],
      "text/plain": [
       "shape: (5, 2)\n",
       "┌─────────┬────────────────────────────────┐\n",
       "│ session ┆ sentence                       │\n",
       "│ ---     ┆ ---                            │\n",
       "│ i32     ┆ list[i32]                      │\n",
       "╞═════════╪════════════════════════════════╡\n",
       "│ 0       ┆ [1517085, 1563459, ... 161938] │\n",
       "├╌╌╌╌╌╌╌╌╌┼╌╌╌╌╌╌╌╌╌╌╌╌╌╌╌╌╌╌╌╌╌╌╌╌╌╌╌╌╌╌╌╌┤\n",
       "│ 1       ┆ [424964, 1492293, ... 497868]  │\n",
       "├╌╌╌╌╌╌╌╌╌┼╌╌╌╌╌╌╌╌╌╌╌╌╌╌╌╌╌╌╌╌╌╌╌╌╌╌╌╌╌╌╌╌┤\n",
       "│ 2       ┆ [763743, 137492, ... 672473]   │\n",
       "├╌╌╌╌╌╌╌╌╌┼╌╌╌╌╌╌╌╌╌╌╌╌╌╌╌╌╌╌╌╌╌╌╌╌╌╌╌╌╌╌╌╌┤\n",
       "│ 3       ┆ [1425967, 1425967, ... 925352] │\n",
       "├╌╌╌╌╌╌╌╌╌┼╌╌╌╌╌╌╌╌╌╌╌╌╌╌╌╌╌╌╌╌╌╌╌╌╌╌╌╌╌╌╌╌┤\n",
       "│ 4       ┆ [613619, 298827, ... 479396]   │\n",
       "└─────────┴────────────────────────────────┘"
      ]
     },
     "execution_count": 4,
     "metadata": {},
     "output_type": "execute_result"
    }
   ],
   "source": [
    "sentences_df.head()"
   ]
  },
  {
   "cell_type": "code",
   "execution_count": 5,
   "metadata": {},
   "outputs": [],
   "source": [
    "sentences = sentences_df['sentence'].to_list()"
   ]
  },
  {
   "cell_type": "markdown",
   "metadata": {},
   "source": [
    "### Training"
   ]
  },
  {
   "cell_type": "code",
   "execution_count": 6,
   "metadata": {},
   "outputs": [],
   "source": [
    "word2vec_model = Word2Vec(sentences = sentences, vector_size = 128, window = 10, min_count = 1, workers = 4)"
   ]
  },
  {
   "cell_type": "code",
   "execution_count": 7,
   "metadata": {},
   "outputs": [
    {
     "data": {
      "text/plain": [
       "1855603"
      ]
     },
     "execution_count": 7,
     "metadata": {},
     "output_type": "execute_result"
    }
   ],
   "source": [
    "len(word2vec_model.wv)"
   ]
  },
  {
   "cell_type": "code",
   "execution_count": 8,
   "metadata": {},
   "outputs": [],
   "source": [
    "word2vec_model.save('word2vec.model')"
   ]
  },
  {
   "cell_type": "code",
   "execution_count": 3,
   "metadata": {},
   "outputs": [],
   "source": [
    "word2vec_model = Word2Vec.load('word2vec.model')"
   ]
  },
  {
   "cell_type": "code",
   "execution_count": 4,
   "metadata": {},
   "outputs": [],
   "source": [
    "item_dict = {}\n",
    "embeddings = []\n",
    "for item_id, item_idx in word2vec_model.wv.key_to_index.items():\n",
    "    item_dict[item_idx] = item_id\n",
    "    embeddings.append(word2vec_model.wv.vectors[item_idx])"
   ]
  },
  {
   "cell_type": "code",
   "execution_count": 5,
   "metadata": {},
   "outputs": [],
   "source": [
    "test_embedding = test.to_pandas()\n",
    "test_embedding['embedding'] = test_embedding['aid'].apply(lambda x: word2vec_model.wv[x])"
   ]
  },
  {
   "cell_type": "code",
   "execution_count": 6,
   "metadata": {},
   "outputs": [
    {
     "data": {
      "text/html": [
       "<div>\n",
       "<style scoped>\n",
       "    .dataframe tbody tr th:only-of-type {\n",
       "        vertical-align: middle;\n",
       "    }\n",
       "\n",
       "    .dataframe tbody tr th {\n",
       "        vertical-align: top;\n",
       "    }\n",
       "\n",
       "    .dataframe thead th {\n",
       "        text-align: right;\n",
       "    }\n",
       "</style>\n",
       "<table border=\"1\" class=\"dataframe\">\n",
       "  <thead>\n",
       "    <tr style=\"text-align: right;\">\n",
       "      <th></th>\n",
       "      <th>session</th>\n",
       "      <th>aid</th>\n",
       "      <th>ts</th>\n",
       "      <th>type</th>\n",
       "      <th>embedding</th>\n",
       "    </tr>\n",
       "  </thead>\n",
       "  <tbody>\n",
       "    <tr>\n",
       "      <th>0</th>\n",
       "      <td>12899779</td>\n",
       "      <td>59625</td>\n",
       "      <td>1661724000</td>\n",
       "      <td>0</td>\n",
       "      <td>[-0.0803801, -0.20465985, 0.22250593, -0.02041...</td>\n",
       "    </tr>\n",
       "    <tr>\n",
       "      <th>1</th>\n",
       "      <td>12899780</td>\n",
       "      <td>1142000</td>\n",
       "      <td>1661724000</td>\n",
       "      <td>0</td>\n",
       "      <td>[-2.5437164, -0.23740415, 2.849504, 0.86475575...</td>\n",
       "    </tr>\n",
       "    <tr>\n",
       "      <th>2</th>\n",
       "      <td>12899780</td>\n",
       "      <td>582732</td>\n",
       "      <td>1661724058</td>\n",
       "      <td>0</td>\n",
       "      <td>[-1.5751047, -0.102995045, 1.020169, 0.9091487...</td>\n",
       "    </tr>\n",
       "    <tr>\n",
       "      <th>3</th>\n",
       "      <td>12899780</td>\n",
       "      <td>973453</td>\n",
       "      <td>1661724109</td>\n",
       "      <td>0</td>\n",
       "      <td>[-0.44183218, 1.127307, 1.2233655, 1.5057317, ...</td>\n",
       "    </tr>\n",
       "    <tr>\n",
       "      <th>4</th>\n",
       "      <td>12899780</td>\n",
       "      <td>736515</td>\n",
       "      <td>1661724136</td>\n",
       "      <td>0</td>\n",
       "      <td>[2.7693973, -0.26971614, 0.49649286, -0.107219...</td>\n",
       "    </tr>\n",
       "  </tbody>\n",
       "</table>\n",
       "</div>"
      ],
      "text/plain": [
       "    session      aid          ts  type  \\\n",
       "0  12899779    59625  1661724000     0   \n",
       "1  12899780  1142000  1661724000     0   \n",
       "2  12899780   582732  1661724058     0   \n",
       "3  12899780   973453  1661724109     0   \n",
       "4  12899780   736515  1661724136     0   \n",
       "\n",
       "                                           embedding  \n",
       "0  [-0.0803801, -0.20465985, 0.22250593, -0.02041...  \n",
       "1  [-2.5437164, -0.23740415, 2.849504, 0.86475575...  \n",
       "2  [-1.5751047, -0.102995045, 1.020169, 0.9091487...  \n",
       "3  [-0.44183218, 1.127307, 1.2233655, 1.5057317, ...  \n",
       "4  [2.7693973, -0.26971614, 0.49649286, -0.107219...  "
      ]
     },
     "execution_count": 6,
     "metadata": {},
     "output_type": "execute_result"
    }
   ],
   "source": [
    "test_embedding.head()"
   ]
  },
  {
   "cell_type": "markdown",
   "metadata": {},
   "source": [
    "### Generate Candidates"
   ]
  },
  {
   "cell_type": "markdown",
   "metadata": {},
   "source": [
    "#### Use mean embedding of AIDs as session embedding"
   ]
  },
  {
   "cell_type": "code",
   "execution_count": 41,
   "metadata": {},
   "outputs": [],
   "source": [
    "test_mean_session_embedding = test_embedding.groupby('session')['embedding'].apply(lambda x: np.mean(x, axis = 0)).reset_index()"
   ]
  },
  {
   "cell_type": "code",
   "execution_count": 47,
   "metadata": {},
   "outputs": [],
   "source": [
    "session_dict = dict(zip(test_mean_session_embedding.session.index, test_mean_session_embedding.session.astype(str)))\n",
    "session_embedding = np.array(test_mean_session_embedding.embedding.tolist())\n",
    "\n",
    "index_data = np.array(embeddings)\n",
    "faiss.normalize_L2(index_data)\n",
    "faiss.normalize_L2(session_embedding)\n",
    "index = faiss.IndexHNSWFlat(128, 32, faiss.METRIC_INNER_PRODUCT)\n",
    "\n",
    "index.add(index_data)\n",
    "sim_matrix, candidate_ids_matrix = index.search(session_embedding, 20)\n",
    "\n",
    "sim_index = []\n",
    "for idx, candidate_ids in tqdm(enumerate(candidate_ids_matrix)):\n",
    "    sims = sim_matrix[idx]\n",
    "    candidates = list(zip(candidate_ids, sims))\n",
    "    candidates = list(filter(lambda x: x[0] in item_dict, candidates))\n",
    "    \n",
    "    preds = []\n",
    "    for cand in candidates:\n",
    "        preds.append(str(item_dict[cand[0]]))\n",
    "    sim_index.append([session_dict[idx] + '_clicks', ' '.join(preds)])\n",
    "    sim_index.append([session_dict[idx] + '_carts', ' '.join(preds)])\n",
    "    sim_index.append([session_dict[idx] + '_orders', ' '.join(preds)])"
   ]
  },
  {
   "cell_type": "code",
   "execution_count": 52,
   "metadata": {},
   "outputs": [],
   "source": [
    "submission = pd.DataFrame(sim_index, columns = ['session_type', 'labels'])\n",
    "submission.to_csv('../../../out/item2vec_mean_embedding.csv', index = False)"
   ]
  },
  {
   "cell_type": "markdown",
   "metadata": {},
   "source": [
    "#### Use the embedding of most recent AID as session embedding"
   ]
  },
  {
   "cell_type": "code",
   "execution_count": 82,
   "metadata": {},
   "outputs": [],
   "source": [
    "test_last_session_embedding = test_embedding.groupby('session')['embedding'].last().reset_index()"
   ]
  },
  {
   "cell_type": "code",
   "execution_count": 83,
   "metadata": {},
   "outputs": [
    {
     "data": {
      "application/vnd.jupyter.widget-view+json": {
       "model_id": "99520d784ae7486c995b2d63c90a8f98",
       "version_major": 2,
       "version_minor": 0
      },
      "text/plain": [
       "0it [00:00, ?it/s]"
      ]
     },
     "metadata": {},
     "output_type": "display_data"
    }
   ],
   "source": [
    "session_dict = dict(zip(test_last_session_embedding.session.index, test_last_session_embedding.session.astype(str)))\n",
    "session_embedding = np.array(test_last_session_embedding.embedding.tolist())\n",
    "\n",
    "index_data = np.array(embeddings)\n",
    "faiss.normalize_L2(index_data)\n",
    "faiss.normalize_L2(session_embedding)\n",
    "index = faiss.IndexHNSWFlat(128, 32, faiss.METRIC_INNER_PRODUCT)\n",
    "\n",
    "index.add(index_data)\n",
    "sim_matrix, candidate_ids_matrix = index.search(session_embedding, 20)\n",
    "\n",
    "sim_index = []\n",
    "for idx, candidate_ids in tqdm(enumerate(candidate_ids_matrix)):\n",
    "    sims = sim_matrix[idx]\n",
    "    candidates = list(zip(candidate_ids, sims))\n",
    "    candidates = list(filter(lambda x: x[0] in item_dict, candidates))\n",
    "    \n",
    "    preds = []\n",
    "    for cand in candidates:\n",
    "        preds.append(str(item_dict[cand[0]]))\n",
    "    sim_index.append([session_dict[idx] + '_clicks', ' '.join(preds)])\n",
    "    sim_index.append([session_dict[idx] + '_carts', ' '.join(preds)])\n",
    "    sim_index.append([session_dict[idx] + '_orders', ' '.join(preds)])"
   ]
  },
  {
   "cell_type": "code",
   "execution_count": 84,
   "metadata": {},
   "outputs": [],
   "source": [
    "submission = pd.DataFrame(sim_index, columns = ['session_type', 'labels'])\n",
    "submission.to_csv('../../../out/item2vec_last_embedding.csv', index = False)"
   ]
  },
  {
   "cell_type": "markdown",
   "metadata": {},
   "source": [
    "#### Use the mean embedding of 3 most recent AID as session embedding"
   ]
  },
  {
   "cell_type": "code",
   "execution_count": 7,
   "metadata": {},
   "outputs": [],
   "source": [
    "test_last_3_session_embedding = test_embedding.groupby('session').tail(3).groupby('session')['embedding'].apply(lambda x: np.mean(x, axis = 0)).reset_index()"
   ]
  },
  {
   "cell_type": "code",
   "execution_count": 8,
   "metadata": {},
   "outputs": [
    {
     "data": {
      "application/vnd.jupyter.widget-view+json": {
       "model_id": "91e865dea88742a6b49a36a6513272ee",
       "version_major": 2,
       "version_minor": 0
      },
      "text/plain": [
       "0it [00:00, ?it/s]"
      ]
     },
     "metadata": {},
     "output_type": "display_data"
    }
   ],
   "source": [
    "session_dict = dict(zip(test_last_3_session_embedding.session.index, test_last_3_session_embedding.session.astype(str)))\n",
    "session_embedding = np.array(test_last_3_session_embedding.embedding.tolist())\n",
    "\n",
    "index_data = np.array(embeddings)\n",
    "faiss.normalize_L2(index_data)\n",
    "faiss.normalize_L2(session_embedding)\n",
    "index = faiss.IndexHNSWFlat(128, 32, faiss.METRIC_INNER_PRODUCT)\n",
    "\n",
    "index.add(index_data)\n",
    "sim_matrix, candidate_ids_matrix = index.search(session_embedding, 20)\n",
    "\n",
    "sim_index = []\n",
    "for idx, candidate_ids in tqdm(enumerate(candidate_ids_matrix)):\n",
    "    sims = sim_matrix[idx]\n",
    "    candidates = list(zip(candidate_ids, sims))\n",
    "    candidates = list(filter(lambda x: x[0] in item_dict, candidates))\n",
    "    \n",
    "    preds = []\n",
    "    for cand in candidates:\n",
    "        preds.append(str(item_dict[cand[0]]))\n",
    "    sim_index.append([session_dict[idx] + '_clicks', ' '.join(preds)])\n",
    "    sim_index.append([session_dict[idx] + '_carts', ' '.join(preds)])\n",
    "    sim_index.append([session_dict[idx] + '_orders', ' '.join(preds)])"
   ]
  },
  {
   "cell_type": "code",
   "execution_count": 9,
   "metadata": {},
   "outputs": [],
   "source": [
    "submission = pd.DataFrame(sim_index, columns = ['session_type', 'labels'])\n",
    "submission.to_csv('../../../out/item2vec_last_3_embedding.csv', index = False)"
   ]
  }
 ],
 "metadata": {
  "kernelspec": {
   "display_name": "Python 3.8.8 ('base')",
   "language": "python",
   "name": "python3"
  },
  "language_info": {
   "codemirror_mode": {
    "name": "ipython",
    "version": 3
   },
   "file_extension": ".py",
   "mimetype": "text/x-python",
   "name": "python",
   "nbconvert_exporter": "python",
   "pygments_lexer": "ipython3",
   "version": "3.8.8"
  },
  "orig_nbformat": 4,
  "vscode": {
   "interpreter": {
    "hash": "2bcf271d7179db609a81d30b0696d678134e6ebf7604799830359976f997b404"
   }
  }
 },
 "nbformat": 4,
 "nbformat_minor": 2
}
